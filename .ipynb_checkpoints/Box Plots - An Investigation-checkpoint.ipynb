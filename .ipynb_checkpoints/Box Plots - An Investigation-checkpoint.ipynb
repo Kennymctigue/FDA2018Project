{
 "cells": [
  {
   "cell_type": "markdown",
   "metadata": {},
   "source": [
    "# Box Plots\n",
    "\n",
    "In this notebook we will examine Box Plots, also known as Box and Whisker Diagrams, and their uses in Data Analytics.  \n",
    "\n",
    "The Box Plot was invented by John Tukey, an American mathematicion, in 1969.  Tukey received a Ph.D in mathematics from Princeton University, worked within the American Statistical Association, was awarded the National Medal of Science and was also awarded the Institute of Electrical and Electronics Engineers (IEEE)Medal of Honor in 1982 \"For his contributions to the spectral analysis of random processes and the fast Fourier transform (FFT) algorithm.\"  \n",
    "\n",
    "A Box Plot is the visual representation of the statistical five number summary of a given data set.  A five number summary includes th Minimum, First Quartile (Q1), Median (or Second Quartile, Q2), Third Quartile (Q3) and the Maximum. It can also tell you if your data is symmetrical, how tightly your data is grouped, and if and how your data is skewed.\n",
    "\n",
    "It is similar to a bell curve in that it provides the user with information on how the values in the data set are dispersed and it allows for outliers to be indentified without skewing the data results. Below is an example of a standard box plot:\n",
    "\n",
    "![BoxPlot](Box Plot.png)\n",
    "\n",
    "The Median, Q2/50th percentile, is the middle value of the dataset.  The first Quartile, Q1/25th percentile, is the middle value between the smallest (different to the 'minimum')and the median.  The third Quartile, Q3/75th percentile, is the middle value between the median and the largest number (different to the 'maximum').  The Interquartile range(IQR) is the distance from Q1 to Q3.\n",
    "\n",
    "The maximum is then calulated by adding 1.5 times IQR to Q3 and the minimum is calculated by subtracting 1.5 times IQR from Q1.\n",
    "\n",
    "\n",
    "\n",
    "https://en.wikipedia.org/wiki/John_Tukey\n",
    "\n",
    "http://www.physics.csbsju.edu/stats/box2.html\n",
    "\n",
    "https://chartio.com/resources/tutorials/what-is-a-box-plot/\n",
    "\n",
    "https://towardsdatascience.com/understanding-boxplots-5e2df7bcbd51\n"
   ]
  },
  {
   "cell_type": "code",
   "execution_count": null,
   "metadata": {
    "collapsed": true
   },
   "outputs": [],
   "source": []
  }
 ],
 "metadata": {
  "kernelspec": {
   "display_name": "Python 3",
   "language": "python",
   "name": "python3"
  },
  "language_info": {
   "codemirror_mode": {
    "name": "ipython",
    "version": 3
   },
   "file_extension": ".py",
   "mimetype": "text/x-python",
   "name": "python",
   "nbconvert_exporter": "python",
   "pygments_lexer": "ipython3",
   "version": "3.6.3"
  }
 },
 "nbformat": 4,
 "nbformat_minor": 2
}
