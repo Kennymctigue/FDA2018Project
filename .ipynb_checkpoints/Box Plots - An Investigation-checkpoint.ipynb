{
 "cells": [
  {
   "cell_type": "markdown",
   "metadata": {},
   "source": [
    "# Box Plots\n",
    "\n",
    "In this notebook we will examine Box Plots and their uses in Data Analytics.  A Box Plot is the visual representation of the statistical five number summary of a given data set.  A five number summary includes:\n",
    "1. Minimum\n",
    "2. First Quartile\n",
    "3. Median (Second Quartile)\n",
    "4. Third Quartile\n",
    "5. Maximum\n"
   ]
  },
  {
   "cell_type": "code",
   "execution_count": null,
   "metadata": {
    "collapsed": true
   },
   "outputs": [],
   "source": []
  }
 ],
 "metadata": {
  "kernelspec": {
   "display_name": "Python 3",
   "language": "python",
   "name": "python3"
  },
  "language_info": {
   "codemirror_mode": {
    "name": "ipython",
    "version": 3
   },
   "file_extension": ".py",
   "mimetype": "text/x-python",
   "name": "python",
   "nbconvert_exporter": "python",
   "pygments_lexer": "ipython3",
   "version": "3.6.3"
  }
 },
 "nbformat": 4,
 "nbformat_minor": 2
}
